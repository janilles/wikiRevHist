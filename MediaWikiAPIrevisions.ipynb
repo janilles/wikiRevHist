{
 "cells": [
  {
   "cell_type": "markdown",
   "metadata": {},
   "source": [
    "# Revision history of Wikipedia articles\n",
    "\n",
    "### Inspired by Aaron Swartz's \"Who writes Wikipedia?\" \n",
    "\n",
    "Work in progress..."
   ]
  },
  {
   "cell_type": "code",
   "execution_count": 1,
   "metadata": {},
   "outputs": [],
   "source": [
    "# Import classes used in this notebook\n",
    "\n",
    "import urllib.request\n",
    "import re\n",
    "import pandas as pd\n",
    "\n",
    "%matplotlib inline\n",
    "import matplotlib.pyplot as plt\n",
    "plt.style.use('seaborn')"
   ]
  },
  {
   "cell_type": "code",
   "execution_count": 2,
   "metadata": {},
   "outputs": [],
   "source": [
    "def GetRevisions(pageTitle):\n",
    "    \n",
    "    # Format is xml because it's preferred for 'rvcontinue'. See https://www.mediawiki.org/wiki/API:Revisions\n",
    "    url = \"https://en.wikipedia.org/w/api.php?action=query&format=xml&prop=revisions&rvprop=timestamp|user|size&rvlimit=500&titles=\" + pageTitle\n",
    "    revisions = [] # list of all accumulated revisions\n",
    "    next = '' # information for the next request\n",
    "    \n",
    "    while True:\n",
    "        response = urllib.request.urlopen(url + next).read().decode('utf-8') # web request, error without .decode('utf-8')\n",
    "        revisions += re.findall('<rev [^>]*>', response) # adds all revisions from the current request to the list\n",
    "\n",
    "        cont = re.search('<continue rvcontinue=\"([^\"]+)\"', response)\n",
    "        if not cont: # break the loop if 'continue' element missing\n",
    "            break\n",
    "\n",
    "        next = \"&rvcontinue=\" + cont.group(1) # gets the revision Id from which to start the next request\n",
    "\n",
    "    return revisions;\n",
    "\n",
    "# Could the RegEx string parsing from result_to_dataframe() be incorporated into this already?"
   ]
  },
  {
   "cell_type": "markdown",
   "metadata": {},
   "source": [
    "# Insert Wikipedia page title below\n",
    "\n",
    "Insert the article title of your choosing in the GetRevisions() function below. \n",
    "\n",
    "Check you have the corroct page title! It's case sensitive and spaces are underscores. You can take the title from the page URL. \n",
    "\n",
    "For example, for https://en.wikipedia.org/wiki/Aaron_Swartz the page title is \"Aaron_Swartz\".\n",
    "\n",
    "So to get the revisions history for the article put it into the function in the cell below in quotation marks like so:\n",
    "\n",
    "```python\n",
    "GetRevisions(\"Aaron_Swartz\")\n",
    "```\n",
    "\n",
    "Then run all subsequent cells or click 'Kernel' in the menu bar and select 'Restart Kernel and Run All Cells...'\n",
    "\n",
    "Depending on the article size it may take several seconds to gather all the data."
   ]
  },
  {
   "cell_type": "code",
   "execution_count": 3,
   "metadata": {},
   "outputs": [],
   "source": [
    "revisions = GetRevisions(\"Diabetes_mellitus\") \n",
    "\n",
    "# Wikipedia article titles are case sensitive and spaces are underscores\n",
    "# Make sure the title corresponds to Wikipedia's title - you can take it from the URL\n",
    "# e.g. \"Diabetes\" is actually \"Diabetes_mellitus\", \"Diabetes\" returns differnt results"
   ]
  },
  {
   "cell_type": "markdown",
   "metadata": {},
   "source": [
    "### Number of article revisions to date:"
   ]
  },
  {
   "cell_type": "code",
   "execution_count": 4,
   "metadata": {},
   "outputs": [
    {
     "data": {
      "text/plain": [
       "7396"
      ]
     },
     "execution_count": 4,
     "metadata": {},
     "output_type": "execute_result"
    }
   ],
   "source": [
    "# API returns a list of strings so the number of items in the list == number of revisions\n",
    "len(revisions) "
   ]
  },
  {
   "cell_type": "code",
   "execution_count": 5,
   "metadata": {},
   "outputs": [],
   "source": [
    "def result_to_dataframe():\n",
    "    \n",
    "    \"\"\"Loops over the the 'revisions' list and extracts\n",
    "        user, timestamp, revision size values. \n",
    "    Returns: \n",
    "        pandas dataframe\"\"\"\n",
    "    \n",
    "    # Initiate an empty list of list for future dataframe\n",
    "    data = [[],[],[]]\n",
    "    # These will be column headers of the returned dataframe\n",
    "    headers = ['user', 'time', 'size']\n",
    "    \n",
    "    for i in revisions:\n",
    "        \n",
    "        # Find username to extract \n",
    "        userMatch = re.search('user=\"(.+?)\"', i)\n",
    "        # Catch missing values throwing AttributeError\n",
    "        if userMatch is not None:\n",
    "            user = userMatch.group(1)\n",
    "        else:\n",
    "            user = \"\"\n",
    "        # Add result to the first list of lists in 'data'\n",
    "        data[0].append(user)\n",
    "        \n",
    "        # Find timestamp to extract\n",
    "        timeMatch = re.search('timestamp=\"(.+?)\"', i)\n",
    "        # Catch missing values throwing AttributeError\n",
    "        if timeMatch is not None:\n",
    "            time = timeMatch.group(1)\n",
    "        else:\n",
    "            time = \"\" # how is this handled in the chart?\n",
    "        # Add result to the second list of lists in 'data'\n",
    "        data[1].append(time)\n",
    "        \n",
    "        # Find revision size to extract\n",
    "        sizeMatch = re.search('size=\"(.+?)\"', i)\n",
    "        # Catch missing values throwing AttributeError\n",
    "        if sizeMatch is not None:\n",
    "            size = sizeMatch.group(1)\n",
    "        else:\n",
    "            size = \"\" # how to handle this is the chart?\n",
    "        # Add result to the third list of lists in 'data'\n",
    "        data[2].append(size)\n",
    "        \n",
    "    return pd.DataFrame(dict(zip(headers, data))) \n",
    "    \n",
    "    # NOTE: Alternative return: pd.DataFrame(data=data).T\n",
    "    # But simply transposing the dataframe with the transpose method\n",
    "    # would only work if we didn't assign the headers in the same step\n",
    "    # therefore the (dict(zip(____,____))) is preferable here"
   ]
  },
  {
   "cell_type": "code",
   "execution_count": 6,
   "metadata": {},
   "outputs": [],
   "source": [
    "# Can this be incorporated into the 'return' in the function above?\n",
    "df = result_to_dataframe()\n",
    "df.set_index('time', inplace=True);\n",
    "df.index = pd.to_datetime(df.index, infer_datetime_format=True)\n",
    "df['size'] = pd.to_numeric(df['size']) # size is article length after revision, not size of revision\n",
    "df.sort_index();\n",
    "df['edit'] = df['size'] - df['size'].shift(-1)"
   ]
  },
  {
   "cell_type": "code",
   "execution_count": 17,
   "metadata": {},
   "outputs": [
    {
     "data": {
      "image/png": "[encoded data removed]",
      "text/plain": [
       "<matplotlib.figure.Figure at 0x114a1a128>"
      ]
     },
     "metadata": {},
     "output_type": "display_data"
    }
   ],
   "source": [
    "# Just some formatting parameters\n",
    "plt.figure(figsize=(16,9)) # Increase the plot size to 16 x 9\n",
    "plt.title('Article length over time - edit by edit', color='grey', size='xx-large') \n",
    "plt.xticks(size='large', color='grey') # Grey color to show on my dark theme and also white background\n",
    "plt.yticks(size='large', color='grey') # Units are bytes\n",
    "\n",
    "y = df['size']\n",
    "x = df.index\n",
    "\n",
    "plt.plot(x,y);"
   ]
  },
  {
   "cell_type": "code",
   "execution_count": 18,
   "metadata": {},
   "outputs": [
    {
     "data": {
      "image/png": "[encoded data removed]",
      "text/plain": [
       "<matplotlib.figure.Figure at 0x113839400>"
      ]
     },
     "metadata": {},
     "output_type": "display_data"
    }
   ],
   "source": [
    "df2 = df.resample('A').max()\n",
    "\n",
    "plt.figure(figsize=(16,9)) # Increase the plot size to 16 x 9\n",
    "plt.title('Article length over time - year by year', color='grey', size='xx-large') \n",
    "plt.xticks(size='large', color='grey') # Grey color to show on my dark theme and also white background\n",
    "plt.yticks(size='large', color='grey') # Units are bytes\n",
    "\n",
    "y2 = df2['size']\n",
    "x2 = df2.index\n",
    "\n",
    "plt.plot(x2,y2);\n",
    "\n",
    "# Idea: Add four or more figures: actual, H, D, W, M, A\n",
    "# Or H to A in different colour lines in the same figure"
   ]
  },
  {
   "cell_type": "markdown",
   "metadata": {},
   "source": [
    "### Top ten vandalisms"
   ]
  },
  {
   "cell_type": "code",
   "execution_count": 9,
   "metadata": {},
   "outputs": [
    {
     "data": {
      "text/html": [
       "<div>\n",
       "<style scoped>\n",
       "    .dataframe tbody tr th:only-of-type {\n",
       "        vertical-align: middle;\n",
       "    }\n",
       "\n",
       "    .dataframe tbody tr th {\n",
       "        vertical-align: top;\n",
       "    }\n",
       "\n",
       "    .dataframe thead th {\n",
       "        text-align: right;\n",
       "    }\n",
       "</style>\n",
       "<table border=\"1\" class=\"dataframe\">\n",
       "  <thead>\n",
       "    <tr style=\"text-align: right;\">\n",
       "      <th></th>\n",
       "      <th>size</th>\n",
       "      <th>user</th>\n",
       "      <th>edit</th>\n",
       "    </tr>\n",
       "    <tr>\n",
       "      <th>time</th>\n",
       "      <th></th>\n",
       "      <th></th>\n",
       "      <th></th>\n",
       "    </tr>\n",
       "  </thead>\n",
       "  <tbody>\n",
       "    <tr>\n",
       "      <th>2009-04-08 18:56:23</th>\n",
       "      <td>1</td>\n",
       "      <td>151.200.18.228</td>\n",
       "      <td>-88883.0</td>\n",
       "    </tr>\n",
       "    <tr>\n",
       "      <th>2009-03-08 00:51:19</th>\n",
       "      <td>0</td>\n",
       "      <td>24.21.253.146</td>\n",
       "      <td>-88717.0</td>\n",
       "    </tr>\n",
       "    <tr>\n",
       "      <th>2009-03-04 17:10:07</th>\n",
       "      <td>20</td>\n",
       "      <td>65.18.49.39</td>\n",
       "      <td>-88685.0</td>\n",
       "    </tr>\n",
       "    <tr>\n",
       "      <th>2009-03-04 10:55:17</th>\n",
       "      <td>51</td>\n",
       "      <td>Parkicar</td>\n",
       "      <td>-88633.0</td>\n",
       "    </tr>\n",
       "    <tr>\n",
       "      <th>2009-05-16 06:25:01</th>\n",
       "      <td>81</td>\n",
       "      <td>75.2.140.145</td>\n",
       "      <td>-88372.0</td>\n",
       "    </tr>\n",
       "    <tr>\n",
       "      <th>2009-02-27 19:47:30</th>\n",
       "      <td>0</td>\n",
       "      <td>70.184.35.16</td>\n",
       "      <td>-88013.0</td>\n",
       "    </tr>\n",
       "    <tr>\n",
       "      <th>2009-02-27 16:35:41</th>\n",
       "      <td>14</td>\n",
       "      <td>75.162.72.204</td>\n",
       "      <td>-87886.0</td>\n",
       "    </tr>\n",
       "    <tr>\n",
       "      <th>2008-11-24 21:31:55</th>\n",
       "      <td>0</td>\n",
       "      <td>76.125.5.150</td>\n",
       "      <td>-87408.0</td>\n",
       "    </tr>\n",
       "    <tr>\n",
       "      <th>2009-02-12 05:43:18</th>\n",
       "      <td>21</td>\n",
       "      <td>70.67.197.172</td>\n",
       "      <td>-87383.0</td>\n",
       "    </tr>\n",
       "    <tr>\n",
       "      <th>2009-02-03 09:57:32</th>\n",
       "      <td>0</td>\n",
       "      <td>207.162.248.224</td>\n",
       "      <td>-87377.0</td>\n",
       "    </tr>\n",
       "  </tbody>\n",
       "</table>\n",
       "</div>"
      ],
      "text/plain": [
       "                     size             user     edit\n",
       "time                                               \n",
       "2009-04-08 18:56:23     1   151.200.18.228 -88883.0\n",
       "2009-03-08 00:51:19     0    24.21.253.146 -88717.0\n",
       "2009-03-04 17:10:07    20      65.18.49.39 -88685.0\n",
       "2009-03-04 10:55:17    51         Parkicar -88633.0\n",
       "2009-05-16 06:25:01    81     75.2.140.145 -88372.0\n",
       "2009-02-27 19:47:30     0     70.184.35.16 -88013.0\n",
       "2009-02-27 16:35:41    14    75.162.72.204 -87886.0\n",
       "2008-11-24 21:31:55     0     76.125.5.150 -87408.0\n",
       "2009-02-12 05:43:18    21    70.67.197.172 -87383.0\n",
       "2009-02-03 09:57:32     0  207.162.248.224 -87377.0"
      ]
     },
     "execution_count": 9,
     "metadata": {},
     "output_type": "execute_result"
    }
   ],
   "source": [
    "df.sort_values(by=['edit'],ascending=True, inplace=False).head(10)"
   ]
  },
  {
   "cell_type": "markdown",
   "metadata": {},
   "source": [
    "### Reversals of vandalisms"
   ]
  },
  {
   "cell_type": "code",
   "execution_count": 10,
   "metadata": {},
   "outputs": [
    {
     "data": {
      "text/html": [
       "<div>\n",
       "<style scoped>\n",
       "    .dataframe tbody tr th:only-of-type {\n",
       "        vertical-align: middle;\n",
       "    }\n",
       "\n",
       "    .dataframe tbody tr th {\n",
       "        vertical-align: top;\n",
       "    }\n",
       "\n",
       "    .dataframe thead th {\n",
       "        text-align: right;\n",
       "    }\n",
       "</style>\n",
       "<table border=\"1\" class=\"dataframe\">\n",
       "  <thead>\n",
       "    <tr style=\"text-align: right;\">\n",
       "      <th></th>\n",
       "      <th>size</th>\n",
       "      <th>user</th>\n",
       "      <th>edit</th>\n",
       "    </tr>\n",
       "    <tr>\n",
       "      <th>time</th>\n",
       "      <th></th>\n",
       "      <th></th>\n",
       "      <th></th>\n",
       "    </tr>\n",
       "  </thead>\n",
       "  <tbody>\n",
       "    <tr>\n",
       "      <th>2009-04-08 18:56:36</th>\n",
       "      <td>88884</td>\n",
       "      <td>Kingpin13</td>\n",
       "      <td>88883.0</td>\n",
       "    </tr>\n",
       "    <tr>\n",
       "      <th>2009-03-08 00:51:29</th>\n",
       "      <td>88717</td>\n",
       "      <td>ClueBot</td>\n",
       "      <td>88717.0</td>\n",
       "    </tr>\n",
       "    <tr>\n",
       "      <th>2009-03-04 17:10:21</th>\n",
       "      <td>88705</td>\n",
       "      <td>ClueBot</td>\n",
       "      <td>88685.0</td>\n",
       "    </tr>\n",
       "    <tr>\n",
       "      <th>2009-03-04 10:55:35</th>\n",
       "      <td>88684</td>\n",
       "      <td>Camw</td>\n",
       "      <td>88633.0</td>\n",
       "    </tr>\n",
       "    <tr>\n",
       "      <th>2009-05-16 06:25:08</th>\n",
       "      <td>88453</td>\n",
       "      <td>ClueBot</td>\n",
       "      <td>88372.0</td>\n",
       "    </tr>\n",
       "    <tr>\n",
       "      <th>2009-02-27 19:47:42</th>\n",
       "      <td>88013</td>\n",
       "      <td>Shawn in Montreal</td>\n",
       "      <td>88013.0</td>\n",
       "    </tr>\n",
       "    <tr>\n",
       "      <th>2009-02-27 16:35:53</th>\n",
       "      <td>87900</td>\n",
       "      <td>ClueBot</td>\n",
       "      <td>87886.0</td>\n",
       "    </tr>\n",
       "    <tr>\n",
       "      <th>2008-11-24 21:32:05</th>\n",
       "      <td>87408</td>\n",
       "      <td>Mifter</td>\n",
       "      <td>87408.0</td>\n",
       "    </tr>\n",
       "    <tr>\n",
       "      <th>2009-02-12 05:43:30</th>\n",
       "      <td>87404</td>\n",
       "      <td>Camw</td>\n",
       "      <td>87383.0</td>\n",
       "    </tr>\n",
       "    <tr>\n",
       "      <th>2009-02-03 10:24:03</th>\n",
       "      <td>87377</td>\n",
       "      <td>128.32.184.62</td>\n",
       "      <td>87352.0</td>\n",
       "    </tr>\n",
       "  </tbody>\n",
       "</table>\n",
       "</div>"
      ],
      "text/plain": [
       "                      size               user     edit\n",
       "time                                                  \n",
       "2009-04-08 18:56:36  88884          Kingpin13  88883.0\n",
       "2009-03-08 00:51:29  88717            ClueBot  88717.0\n",
       "2009-03-04 17:10:21  88705            ClueBot  88685.0\n",
       "2009-03-04 10:55:35  88684               Camw  88633.0\n",
       "2009-05-16 06:25:08  88453            ClueBot  88372.0\n",
       "2009-02-27 19:47:42  88013  Shawn in Montreal  88013.0\n",
       "2009-02-27 16:35:53  87900            ClueBot  87886.0\n",
       "2008-11-24 21:32:05  87408             Mifter  87408.0\n",
       "2009-02-12 05:43:30  87404               Camw  87383.0\n",
       "2009-02-03 10:24:03  87377      128.32.184.62  87352.0"
      ]
     },
     "execution_count": 10,
     "metadata": {},
     "output_type": "execute_result"
    }
   ],
   "source": [
    "df.sort_values(by=['edit'],ascending=False, inplace=False).head(10)"
   ]
  },
  {
   "cell_type": "markdown",
   "metadata": {},
   "source": [
    "### Top contributors v top editors (not bots, not vandalism reversals) \n",
    "\n",
    "TBC"
   ]
  }
 ],
 "metadata": {
  "kernelspec": {
   "display_name": "Python 3",
   "language": "python",
   "name": "python3"
  },
  "language_info": {
   "codemirror_mode": {
    "name": "ipython",
    "version": 3
   },
   "file_extension": ".py",
   "mimetype": "text/x-python",
   "name": "python",
   "nbconvert_exporter": "python",
   "pygments_lexer": "ipython3",
   "version": "3.6.4"
  }
 },
 "nbformat": 4,
 "nbformat_minor": 2
}
